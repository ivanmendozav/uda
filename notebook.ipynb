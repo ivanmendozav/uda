{
 "cells": [
  {
   "attachments": {},
   "cell_type": "markdown",
   "metadata": {},
   "source": [
    "Load data"
   ]
  },
  {
   "cell_type": "code",
   "execution_count": null,
   "metadata": {},
   "outputs": [],
   "source": []
  },
  {
   "cell_type": "code",
   "execution_count": null,
   "metadata": {},
   "outputs": [],
   "source": []
  },
  {
   "cell_type": "code",
   "execution_count": null,
   "metadata": {},
   "outputs": [],
   "source": [
    "#add libraries\n",
    "import pandas as pd\n",
    "import numpy as np\n",
    "import matplotlib.pyplot as plt\n",
    "import utm\n",
    "import time as time\n",
    "start = time.time()\n",
    "#add data\n",
    "datos = pd.read_csv(\"datasets/Viajes MEX-TOL.csv\")\n",
    "#convert to utm\n",
    "latitudes = np.array(datos[\"latitud\"])\n",
    "longitudes = np.array(datos[\"longitud\"])\n",
    "utms = utm.from_latlon(latitudes,longitudes,14,\"Q\") #14Q for Mexico\n",
    "datos_f = datos.copy()\n",
    "datos_f[\"utm_x\"] = utms[0]\n",
    "datos_f[\"utm_y\"] = utms[1]\n",
    "datos_f = datos_f.drop([\"l\",\"latitud\",\"longitud\",\"fecha\",\"hora\"],axis=1)\n",
    "datos_f = datos_f.rename(columns={\"altitud\": \"height\"})\n",
    "#lag point coordinates\n",
    "datos_l = datos_f.copy()\n",
    "datos_l[\"next_utm_x\"] = datos_f[\"utm_x\"].shift(-1)\n",
    "datos_l[\"next_utm_y\"] = datos_f[\"utm_y\"].shift(-1)\n",
    "datos_l[\"next_height\"] = datos_f[\"height\"].shift(-1)\n",
    "#calculate distances and slopes\n",
    "datos_l[\"distance\"] = np.sqrt((datos_l[\"utm_x\"]-datos_l[\"next_utm_x\"])**2 + (datos_l[\"utm_y\"]-datos_l[\"next_utm_y\"])**2)\n",
    "datos_l[\"slope\"] = (datos_l[\"next_height\"]-datos_l[\"height\"])/datos_l[\"distance\"] \n",
    "datos_l[\"sum_distance\"] = np.cumsum(datos_l[\"distance\"])\n",
    "plt.plot(datos_l[\"sum_distance\"],datos_l[\"height\"])\n",
    "plt.show()    \n",
    "print(datos_l)\n",
    "stop = time.time()\n",
    "print(stop-start,\"ms\")"
   ]
  },
  {
   "attachments": {},
   "cell_type": "markdown",
   "metadata": {},
   "source": [
    "Clustering"
   ]
  },
  {
   "cell_type": "code",
   "execution_count": null,
   "metadata": {},
   "outputs": [],
   "source": []
  }
 ],
 "metadata": {
  "kernelspec": {
   "display_name": "Python 3",
   "language": "python",
   "name": "python3"
  },
  "language_info": {
   "name": "python",
   "version": "3.10.2 (tags/v3.10.2:a58ebcc, Jan 17 2022, 14:12:15) [MSC v.1929 64 bit (AMD64)]"
  },
  "orig_nbformat": 4,
  "vscode": {
   "interpreter": {
    "hash": "b2e61ec0b8ab12059dc62f2dc503d7d0a96aefdac65f4c666c57771d40cb3777"
   }
  }
 },
 "nbformat": 4,
 "nbformat_minor": 2
}
