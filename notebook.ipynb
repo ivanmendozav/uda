{
 "cells": [
  {
   "attachments": {},
   "cell_type": "markdown",
   "metadata": {},
   "source": [
    "Load data"
   ]
  },
  {
   "cell_type": "code",
   "execution_count": 1,
   "metadata": {},
   "outputs": [
    {
     "name": "stderr",
     "output_type": "stream",
     "text": [
      "/Users/jayguru/anaconda3/lib/python3.6/site-packages/matplotlib/cbook/__init__.py:1377: FutureWarning: Support for multi-dimensional indexing (e.g. `obj[:, None]`) is deprecated and will be removed in a future version.  Convert to a numpy array before indexing instead.\n",
      "  x[:, None]\n",
      "/Users/jayguru/anaconda3/lib/python3.6/site-packages/matplotlib/axes/_base.py:237: FutureWarning: Support for multi-dimensional indexing (e.g. `obj[:, None]`) is deprecated and will be removed in a future version.  Convert to a numpy array before indexing instead.\n",
      "  x = x[:, np.newaxis]\n",
      "/Users/jayguru/anaconda3/lib/python3.6/site-packages/matplotlib/axes/_base.py:239: FutureWarning: Support for multi-dimensional indexing (e.g. `obj[:, None]`) is deprecated and will be removed in a future version.  Convert to a numpy array before indexing instead.\n",
      "  y = y[:, np.newaxis]\n"
     ]
    },
    {
     "data": {
      "text/plain": [
       "<Figure size 640x480 with 1 Axes>"
      ]
     },
     "metadata": {},
     "output_type": "display_data"
    },
    {
     "name": "stdout",
     "output_type": "stream",
     "text": [
      "      index  secuencia       height          utm_x         utm_y  \\\n",
      "0      4364      16159  3005.483154  459005.271210  2.134010e+06   \n",
      "1      4365      16160  3005.680908  458979.520032  2.134006e+06   \n",
      "2      4366      16161  3006.632813  458953.663777  2.134001e+06   \n",
      "3      4367      16162  3007.304932  458928.228505  2.133996e+06   \n",
      "4      4368      16163  3007.375977  458902.898782  2.133992e+06   \n",
      "...     ...        ...          ...            ...           ...   \n",
      "1663   6027      17822  2655.105469  433618.419221  2.131161e+06   \n",
      "1664   6028      17823  2655.105225  433618.209057  2.131161e+06   \n",
      "1665   6029      17824  2655.092529  433617.473079  2.131161e+06   \n",
      "1666   6030      17825  2655.127441  433616.421051  2.131161e+06   \n",
      "1667   6031      17826  2655.086670  433615.475312  2.131161e+06   \n",
      "\n",
      "         next_utm_x    next_utm_y  next_height   distance     slope  \\\n",
      "0     458979.520032  2.134006e+06  3005.680908  26.196697  0.007549   \n",
      "1     458953.663777  2.134001e+06  3006.632813  26.299943  0.036194   \n",
      "2     458928.228505  2.133996e+06  3007.304932  25.826705  0.026024   \n",
      "3     458902.898782  2.133992e+06  3007.375977  25.685182  0.002766   \n",
      "4     458877.883983  2.133988e+06  3007.738281  25.393590  0.014268   \n",
      "...             ...           ...          ...        ...       ...   \n",
      "1663  433618.209057  2.131161e+06  2655.105225   0.210166 -0.001161   \n",
      "1664  433617.473079  2.131161e+06  2655.092529   0.743856 -0.017068   \n",
      "1665  433616.421051  2.131161e+06  2655.127441   1.102018  0.031680   \n",
      "1666  433615.475312  2.131161e+06  2655.086670   0.945745 -0.043110   \n",
      "1667            NaN           NaN          NaN        NaN       NaN   \n",
      "\n",
      "      sum_distance  \n",
      "0        26.196697  \n",
      "1        52.496640  \n",
      "2        78.323345  \n",
      "3       104.008527  \n",
      "4       129.402118  \n",
      "...            ...  \n",
      "1663  26965.462144  \n",
      "1664  26966.206000  \n",
      "1665  26967.308018  \n",
      "1666  26968.253762  \n",
      "1667           NaN  \n",
      "\n",
      "[1668 rows x 11 columns]\n",
      "2.2835819721221924 ms\n"
     ]
    }
   ],
   "source": [
    "#add libraries\n",
    "import pandas as pd\n",
    "import numpy as np\n",
    "import matplotlib.pyplot as plt\n",
    "import utm\n",
    "import time as time\n",
    "start = time.time()\n",
    "#add data\n",
    "datos = pd.read_csv(\"datasets/Viajes MEX-TOL.csv\")\n",
    "#convert to utm\n",
    "latitudes = np.array(datos[\"latitud\"])\n",
    "longitudes = np.array(datos[\"longitud\"])\n",
    "utms = utm.from_latlon(latitudes,longitudes,14,\"Q\") #14Q for Mexico\n",
    "datos_f = datos.copy()\n",
    "datos_f[\"utm_x\"] = utms[0]\n",
    "datos_f[\"utm_y\"] = utms[1]\n",
    "\n",
    "\n",
    "min_longitud = -99.64\n",
    "max_longitud = -99.39\n",
    "datos_f = datos_f[datos_f['longitud'] > min_longitud]\n",
    "datos_f = datos_f[datos_f['longitud'] < max_longitud]\n",
    "datos_f = datos_f[datos_f['longitud'] < max_longitud]\n",
    "datos_f = datos_f.reset_index()\n",
    "\n",
    "datos_f = datos_f.drop([\"l\",\"latitud\",\"longitud\",\"fecha\",\"hora\"],axis=1)\n",
    "datos_f = datos_f.rename(columns={\"altitud\": \"height\"})\n",
    "#lag point coordinates\n",
    "datos_l = datos_f.copy()\n",
    "datos_l[\"next_utm_x\"] = datos_f[\"utm_x\"].shift(-1)\n",
    "datos_l[\"next_utm_y\"] = datos_f[\"utm_y\"].shift(-1)\n",
    "datos_l[\"next_height\"] = datos_f[\"height\"].shift(-1)\n",
    "#calculate distances and slopes\n",
    "datos_l[\"distance\"] = np.sqrt((datos_l[\"utm_x\"]-datos_l[\"next_utm_x\"])**2 + (datos_l[\"utm_y\"]-datos_l[\"next_utm_y\"])**2)\n",
    "datos_l[\"slope\"] = (datos_l[\"next_height\"]-datos_l[\"height\"])/datos_l[\"distance\"] \n",
    "datos_l[\"sum_distance\"] = np.cumsum(datos_l[\"distance\"])\n",
    "plt.plot(datos_l[\"sum_distance\"],datos_l[\"height\"])\n",
    "plt.show()    \n",
    "print(datos_l)\n",
    "stop = time.time()\n",
    "print(stop-start,\"ms\")"
   ]
  },
  {
   "attachments": {},
   "cell_type": "markdown",
   "metadata": {},
   "source": [
    "Clustering"
   ]
  },
  {
   "cell_type": "code",
   "execution_count": 2,
   "metadata": {},
   "outputs": [],
   "source": [
    "import seaborn as sns"
   ]
  },
  {
   "cell_type": "code",
   "execution_count": 3,
   "metadata": {},
   "outputs": [],
   "source": [
    "def sdd_clust(data, tol):\n",
    "    heights = data[\"height\"]\n",
    "    clusters = np.ones(len(heights))\n",
    "    sdd_cluster=1\n",
    "    dist = 0\n",
    "    for i in range(1,len(heights)):\n",
    "        dist = abs(heights[i-1]-heights[i])\n",
    "        if dist>tol:\n",
    "            sdd_cluster = sdd_cluster+1\n",
    "        clusters[i] = sdd_cluster  \n",
    "\n",
    "    data[\"cluster\"] = clusters\n",
    "    return data"
   ]
  },
  {
   "cell_type": "code",
   "execution_count": 4,
   "metadata": {},
   "outputs": [],
   "source": [
    "def tol_adjust (data, tol=1.6):\n",
    "  n = 1\n",
    "  while n>0 :\n",
    "    tol = tol + 0.1\n",
    "    data2 = sdd_clust(data, tol)\n",
    "    table = data2.value_counts()\n",
    "    frec = datos_l.cluster.value_counts().to_numpy()\n",
    "    n = frec[frec<2].shape[0]\n",
    "  print(tol)\n",
    "  return data2\n",
    "   \n"
   ]
  },
  {
   "cell_type": "code",
   "execution_count": 5,
   "metadata": {},
   "outputs": [
    {
     "name": "stdout",
     "output_type": "stream",
     "text": [
      "2.600000000000001\n"
     ]
    }
   ],
   "source": [
    "data_clustered = tol_adjust(datos_l, 1.6)"
   ]
  },
  {
   "cell_type": "code",
   "execution_count": 6,
   "metadata": {},
   "outputs": [
    {
     "data": {
      "text/plain": [
       "<seaborn.axisgrid.FacetGrid at 0x7fea17ec5208>"
      ]
     },
     "execution_count": 6,
     "metadata": {},
     "output_type": "execute_result"
    },
    {
     "data": {
      "image/png": "[encoded data removed]",
      "text/plain": [
       "<Figure size 411.875x360 with 1 Axes>"
      ]
     },
     "metadata": {},
     "output_type": "display_data"
    }
   ],
   "source": [
    "sns.lmplot(x='sum_distance', y='height', data=data_clustered, hue='cluster', fit_reg=False)"
   ]
  }
 ],
 "metadata": {
  "kernelspec": {
   "display_name": "base",
   "language": "python",
   "name": "python3"
  },
  "language_info": {
   "codemirror_mode": {
    "name": "ipython",
    "version": 3
   },
   "file_extension": ".py",
   "mimetype": "text/x-python",
   "name": "python",
   "nbconvert_exporter": "python",
   "pygments_lexer": "ipython3",
   "version": "3.6.5"
  },
  "orig_nbformat": 4,
  "vscode": {
   "interpreter": {
    "hash": "5868581430a53699f02da03ff123c203b3537d2c006ca63b0b927a8c2ebbcb21"
   }
  }
 },
 "nbformat": 4,
 "nbformat_minor": 2
}
