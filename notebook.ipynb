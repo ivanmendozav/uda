{
 "cells": [
  {
   "attachments": {},
   "cell_type": "markdown",
   "metadata": {},
   "source": [
    "Load data"
   ]
  },
  {
   "cell_type": "code",
   "execution_count": 4,
   "metadata": {},
   "outputs": [
    {
     "data": {
      "image/png": "[encoded data removed]",
      "text/plain": [
       "<Figure size 640x480 with 1 Axes>"
      ]
     },
     "metadata": {},
     "output_type": "display_data"
    },
    {
     "name": "stdout",
     "output_type": "stream",
     "text": [
      "0.16432881355285645 ms\n"
     ]
    }
   ],
   "source": [
    "#add libraries\n",
    "import pandas as pd\n",
    "import numpy as np\n",
    "import matplotlib.pyplot as plt\n",
    "import utm\n",
    "import time as time\n",
    "start = time.time()\n",
    "#add data\n",
    "datos = pd.read_csv(\"datasets/Viajes MEX-TOL.csv\")\n",
    "#convert to utm\n",
    "latitudes = np.array(datos[\"latitud\"])\n",
    "longitudes = np.array(datos[\"longitud\"])\n",
    "utms = utm.from_latlon(latitudes,longitudes,14,\"Q\") #14Q for Mexico\n",
    "datos_f = datos.copy()\n",
    "datos_f[\"utm_x\"] = utms[0]\n",
    "datos_f[\"utm_y\"] = utms[1]\n",
    "\n",
    "\n",
    "min_longitud = -99.64\n",
    "max_longitud = -99.39\n",
    "datos_f = datos_f[datos_f['longitud'] > min_longitud]\n",
    "datos_f = datos_f[datos_f['longitud'] < max_longitud]\n",
    "datos_f = datos_f[datos_f['longitud'] < max_longitud]\n",
    "datos_f = datos_f.reset_index()\n",
    "\n",
    "datos_f = datos_f.drop([\"l\",\"latitud\",\"longitud\",\"fecha\",\"hora\"],axis=1)\n",
    "datos_f = datos_f.rename(columns={\"altitud\": \"height\"})\n",
    "#lag point coordinates\n",
    "datos_l = datos_f.copy()\n",
    "datos_l[\"next_utm_x\"] = datos_f[\"utm_x\"].shift(-1)\n",
    "datos_l[\"next_utm_y\"] = datos_f[\"utm_y\"].shift(-1)\n",
    "datos_l[\"next_height\"] = datos_f[\"height\"].shift(-1)\n",
    "#calculate distances and slopes\n",
    "datos_l[\"distance\"] = np.sqrt((datos_l[\"utm_x\"]-datos_l[\"next_utm_x\"])**2 + (datos_l[\"utm_y\"]-datos_l[\"next_utm_y\"])**2)\n",
    "datos_l[\"slope\"] = (datos_l[\"next_height\"]-datos_l[\"height\"])/datos_l[\"distance\"] \n",
    "datos_l[\"sum_distance\"] = np.cumsum(datos_l[\"distance\"])\n",
    "plt.plot(datos_l[\"sum_distance\"],datos_l[\"height\"])\n",
    "plt.show()    \n",
    "datos_l.head(10)\n",
    "stop = time.time()\n",
    "print(stop-start,\"ms\")"
   ]
  },
  {
   "attachments": {},
   "cell_type": "markdown",
   "metadata": {},
   "source": [
    "Clustering"
   ]
  },
  {
   "cell_type": "code",
   "execution_count": 5,
   "metadata": {},
   "outputs": [],
   "source": [
    "import seaborn as sns"
   ]
  },
  {
   "cell_type": "code",
   "execution_count": 6,
   "metadata": {},
   "outputs": [],
   "source": [
    "def sdd_clust(data, tol):\n",
    "    heights = data[\"height\"]\n",
    "    clusters = np.ones(len(heights))\n",
    "    sdd_cluster=1\n",
    "    dist = 0\n",
    "    for i in range(1,len(heights)):\n",
    "        dist = abs(heights[i-1]-heights[i])\n",
    "        if dist>tol:\n",
    "            sdd_cluster = sdd_cluster+1\n",
    "        clusters[i] = sdd_cluster  \n",
    "\n",
    "    data[\"cluster\"] = clusters\n",
    "    return data"
   ]
  },
  {
   "cell_type": "code",
   "execution_count": 7,
   "metadata": {},
   "outputs": [],
   "source": [
    "def tol_adjust (data, tol=1.6):\n",
    "  n = 1\n",
    "  while n>0 :\n",
    "    tol = tol + 0.1\n",
    "    data2 = sdd_clust(data, tol)\n",
    "    table = data2.value_counts()\n",
    "    frec = datos_l.cluster.value_counts().to_numpy()\n",
    "    n = frec[frec<2].shape[0]\n",
    "  print(tol)\n",
    "  return data2\n",
    "   \n"
   ]
  },
  {
   "cell_type": "code",
   "execution_count": 8,
   "metadata": {},
   "outputs": [
    {
     "name": "stdout",
     "output_type": "stream",
     "text": [
      "2.600000000000001\n"
     ]
    },
    {
     "data": {
      "text/html": [
       "<div>\n",
       "<style scoped>\n",
       "    .dataframe tbody tr th:only-of-type {\n",
       "        vertical-align: middle;\n",
       "    }\n",
       "\n",
       "    .dataframe tbody tr th {\n",
       "        vertical-align: top;\n",
       "    }\n",
       "\n",
       "    .dataframe thead th {\n",
       "        text-align: right;\n",
       "    }\n",
       "</style>\n",
       "<table border=\"1\" class=\"dataframe\">\n",
       "  <thead>\n",
       "    <tr style=\"text-align: right;\">\n",
       "      <th></th>\n",
       "      <th>secuencia</th>\n",
       "      <th>height</th>\n",
       "      <th>utm_x</th>\n",
       "      <th>utm_y</th>\n",
       "      <th>distance</th>\n",
       "      <th>slope</th>\n",
       "      <th>sum_distance</th>\n",
       "      <th>cluster</th>\n",
       "    </tr>\n",
       "  </thead>\n",
       "  <tbody>\n",
       "    <tr>\n",
       "      <th>0</th>\n",
       "      <td>16159</td>\n",
       "      <td>3005.483154</td>\n",
       "      <td>459005.271210</td>\n",
       "      <td>2.134010e+06</td>\n",
       "      <td>26.196697</td>\n",
       "      <td>0.007549</td>\n",
       "      <td>26.196697</td>\n",
       "      <td>1.0</td>\n",
       "    </tr>\n",
       "    <tr>\n",
       "      <th>1</th>\n",
       "      <td>16160</td>\n",
       "      <td>3005.680908</td>\n",
       "      <td>458979.520032</td>\n",
       "      <td>2.134006e+06</td>\n",
       "      <td>26.299943</td>\n",
       "      <td>0.036194</td>\n",
       "      <td>52.496640</td>\n",
       "      <td>1.0</td>\n",
       "    </tr>\n",
       "    <tr>\n",
       "      <th>2</th>\n",
       "      <td>16161</td>\n",
       "      <td>3006.632813</td>\n",
       "      <td>458953.663777</td>\n",
       "      <td>2.134001e+06</td>\n",
       "      <td>25.826705</td>\n",
       "      <td>0.026024</td>\n",
       "      <td>78.323345</td>\n",
       "      <td>1.0</td>\n",
       "    </tr>\n",
       "    <tr>\n",
       "      <th>3</th>\n",
       "      <td>16162</td>\n",
       "      <td>3007.304932</td>\n",
       "      <td>458928.228505</td>\n",
       "      <td>2.133996e+06</td>\n",
       "      <td>25.685182</td>\n",
       "      <td>0.002766</td>\n",
       "      <td>104.008527</td>\n",
       "      <td>1.0</td>\n",
       "    </tr>\n",
       "    <tr>\n",
       "      <th>4</th>\n",
       "      <td>16163</td>\n",
       "      <td>3007.375977</td>\n",
       "      <td>458902.898782</td>\n",
       "      <td>2.133992e+06</td>\n",
       "      <td>25.393590</td>\n",
       "      <td>0.014268</td>\n",
       "      <td>129.402118</td>\n",
       "      <td>1.0</td>\n",
       "    </tr>\n",
       "  </tbody>\n",
       "</table>\n",
       "</div>"
      ],
      "text/plain": [
       "   secuencia       height          utm_x         utm_y   distance     slope  \\\n",
       "0      16159  3005.483154  459005.271210  2.134010e+06  26.196697  0.007549   \n",
       "1      16160  3005.680908  458979.520032  2.134006e+06  26.299943  0.036194   \n",
       "2      16161  3006.632813  458953.663777  2.134001e+06  25.826705  0.026024   \n",
       "3      16162  3007.304932  458928.228505  2.133996e+06  25.685182  0.002766   \n",
       "4      16163  3007.375977  458902.898782  2.133992e+06  25.393590  0.014268   \n",
       "\n",
       "   sum_distance  cluster  \n",
       "0     26.196697      1.0  \n",
       "1     52.496640      1.0  \n",
       "2     78.323345      1.0  \n",
       "3    104.008527      1.0  \n",
       "4    129.402118      1.0  "
      ]
     },
     "execution_count": 8,
     "metadata": {},
     "output_type": "execute_result"
    },
    {
     "data": {
      "image/png": "[encoded data removed]",
      "text/plain": [
       "<Figure size 572x500 with 1 Axes>"
      ]
     },
     "metadata": {},
     "output_type": "display_data"
    }
   ],
   "source": [
    "data_clustered = tol_adjust(datos_l, 1.6)\n",
    "sns.lmplot(x='sum_distance', y='height', data=data_clustered, hue='cluster', fit_reg=False)\n",
    "data_clustered = data_clustered.drop(['next_utm_x','next_utm_y', 'next_height', 'index' ], axis=1)\n",
    "data_clustered.reset_index()\n",
    "data_clustered.head(5)"
   ]
  },
  {
   "cell_type": "code",
   "execution_count": 9,
   "metadata": {},
   "outputs": [
    {
     "data": {
      "text/plain": [
       "1668"
      ]
     },
     "execution_count": 9,
     "metadata": {},
     "output_type": "execute_result"
    }
   ],
   "source": [
    "data_clustered.shape[0]"
   ]
  },
  {
   "cell_type": "code",
   "execution_count": 16,
   "metadata": {},
   "outputs": [],
   "source": [
    "from scipy import stats\n",
    "\n",
    "def height_correction(data_clustered, max_points=5,replace_points=10):\n",
    "    clusters = data_clustered.cluster.unique()\n",
    "    if(len(clusters)>1):\n",
    "        gps_smooth = pd.DataFrame()\n",
    "        for i in range(1,len(clusters)):\n",
    "            data_predicted = pd.DataFrame()\n",
    "            grupo1 = data_clustered[data_clustered['cluster']==i]\n",
    "            grupo2 = data_clustered[data_clustered['cluster']==(i+1)]\n",
    "            grupo1.insert(5,\"grupo\",np.ones(grupo1.shape[0])); \n",
    "            grupo2.insert(5,\"grupo\",np.ones(grupo2.shape[0])); \n",
    "            m = np.min([grupo1.shape[0],grupo2.shape[0],max_points])\n",
    "            subgrupo1 = grupo1.tail(m)\n",
    "            subgrupo2 = grupo2.head(m)\n",
    "\n",
    "            r = pd.concat([subgrupo1,subgrupo2]).reset_index(drop=True)\n",
    "            modelo_z = stats.linregress(r.sum_distance,r.height)\n",
    "            modelo_x = stats.linregress(r.sum_distance,r.utm_x)\n",
    "            modelo_y = stats.linregress(r.sum_distance,r.utm_y)\n",
    "            \n",
    "            #200 -100 /5\n",
    "            #100 200:  100 120 140 160 180 200\n",
    "            #reemplazar con suavizado\n",
    "            x_min = r.sum_distance.min()\n",
    "            x_max = r.sum_distance.max()\n",
    "            gap_points = np.linspace(r.sum_distance.min(),r.sum_distance.max(),replace_points)\n",
    "            h_smooth = modelo_z.slope*gap_points+modelo_z.intercept # mx + b\n",
    "            data_predicted.insert(0,\"height\", h_smooth)\n",
    "            x_smooth = modelo_x.slope*gap_points+modelo_x.intercept # mx + b\n",
    "            data_predicted.insert(0,\"utm_x\", x_smooth)\n",
    "            y_smooth = modelo_y.slope*gap_points+modelo_y.intercept # mx + b\n",
    "            data_predicted.insert(0,\"utm_y\", y_smooth)\n",
    "            data_predicted.insert(0,\"secuencia\", np.zeros(data_predicted.shape[0]))\n",
    "            data_predicted.insert(0,\"distance\", np.zeros(data_predicted.shape[0]))\n",
    "            data_predicted.insert(0,\"slope\", np.zeros(data_predicted.shape[0]))\n",
    "            data_predicted.insert(0,\"sum_distance\", np.zeros(data_predicted.shape[0]))\n",
    "            data_predicted.insert(0,\"cluster\", np.zeros(data_predicted.shape[0]))\n",
    "            \n",
    "            if i==1:\n",
    "                start = 0\n",
    "            else:\n",
    "                start = m + 1\n",
    "         \n",
    "            if i>1:\n",
    "                gps_smooth = gps_smooth[gps_smooth['cluster']!=i]\n",
    "            \n",
    "            if grupo2.shape[0]>m:\n",
    "                gps_smooth = pd.concat([gps_smooth,grupo1.head(grupo1.shape[0]-m),data_predicted,grupo2.tail(grupo2.shape[0]-m)]).reset_index(drop=True)    \n",
    "            else:\n",
    "                gps_smooth <- pd.concat([gps_smooth,grupo1.head(grupo1.shape[0]-m),data_predicted])       \n",
    "        # gps_smooth <- get_distances(gps_smooth)\n",
    "        # gps_smooth.grupo <- NULL\n",
    "        # gps_smooth.secuencia <- NULL\n",
    "        # gps5 <- sddclust(gps_smooth,tolerance=tol)        \n",
    "    else:\n",
    "        print(\"ERROR: No gaps found (clusters number must be longer than 1\")\n",
    "    datos_l = gps_smooth.copy()\n",
    "    datos_l[\"next_utm_x\"] = datos_f[\"utm_x\"].shift(-1)\n",
    "    datos_l[\"next_utm_y\"] = datos_f[\"utm_y\"].shift(-1)\n",
    "    datos_l[\"next_height\"] = datos_f[\"height\"].shift(-1)\n",
    "    #calculate distances and slopes\n",
    "    datos_l[\"distance\"] = np.sqrt((datos_l[\"utm_x\"]-datos_l[\"next_utm_x\"])**2 + (datos_l[\"utm_y\"]-datos_l[\"next_utm_y\"])**2)\n",
    "    datos_l[\"slope\"] = (datos_l[\"next_height\"]-datos_l[\"height\"])/datos_l[\"distance\"] \n",
    "    datos_l[\"sum_distance\"] = np.cumsum(datos_l[\"distance\"])\n",
    "    return(datos_l)"
   ]
  },
  {
   "cell_type": "code",
   "execution_count": 24,
   "metadata": {},
   "outputs": [
    {
     "name": "stdout",
     "output_type": "stream",
     "text": [
      "[[2980.75104331]\n",
      " [2978.8406095 ]\n",
      " [2976.93017568]\n",
      " [2975.01974187]\n",
      " [2973.10930805]\n",
      " [2971.19887424]\n",
      " [2969.28844043]\n",
      " [2967.37800661]\n",
      " [2965.4675728 ]\n",
      " [2963.55713898]]\n"
     ]
    },
    {
     "ename": "ValueError",
     "evalue": "Cannot set a frame with no defined index and a value that cannot be converted to a Series",
     "output_type": "error",
     "traceback": [
      "\u001b[1;31m---------------------------------------------------------------------------\u001b[0m",
      "\u001b[1;31mValueError\u001b[0m                                Traceback (most recent call last)",
      "File \u001b[1;32mc:\\Users\\ivanm\\AppData\\Local\\Programs\\Python\\Python310\\lib\\site-packages\\pandas\\core\\frame.py:4240\u001b[0m, in \u001b[0;36mDataFrame._ensure_valid_index\u001b[1;34m(self, value)\u001b[0m\n\u001b[0;32m   4239\u001b[0m \u001b[39mtry\u001b[39;00m:\n\u001b[1;32m-> 4240\u001b[0m     value \u001b[39m=\u001b[39m Series(value)\n\u001b[0;32m   4241\u001b[0m \u001b[39mexcept\u001b[39;00m (\u001b[39mValueError\u001b[39;00m, \u001b[39mNotImplementedError\u001b[39;00m, \u001b[39mTypeError\u001b[39;00m) \u001b[39mas\u001b[39;00m err:\n",
      "File \u001b[1;32mc:\\Users\\ivanm\\AppData\\Local\\Programs\\Python\\Python310\\lib\\site-packages\\pandas\\core\\series.py:470\u001b[0m, in \u001b[0;36mSeries.__init__\u001b[1;34m(self, data, index, dtype, name, copy, fastpath)\u001b[0m\n\u001b[0;32m    469\u001b[0m \u001b[39melse\u001b[39;00m:\n\u001b[1;32m--> 470\u001b[0m     data \u001b[39m=\u001b[39m sanitize_array(data, index, dtype, copy)\n\u001b[0;32m    472\u001b[0m     manager \u001b[39m=\u001b[39m get_option(\u001b[39m\"\u001b[39m\u001b[39mmode.data_manager\u001b[39m\u001b[39m\"\u001b[39m)\n",
      "File \u001b[1;32mc:\\Users\\ivanm\\AppData\\Local\\Programs\\Python\\Python310\\lib\\site-packages\\pandas\\core\\construction.py:647\u001b[0m, in \u001b[0;36msanitize_array\u001b[1;34m(data, index, dtype, copy, raise_cast_failure, allow_2d)\u001b[0m\n\u001b[0;32m    645\u001b[0m             subarr \u001b[39m=\u001b[39m maybe_infer_to_datetimelike(subarr)\n\u001b[1;32m--> 647\u001b[0m subarr \u001b[39m=\u001b[39m _sanitize_ndim(subarr, data, dtype, index, allow_2d\u001b[39m=\u001b[39;49mallow_2d)\n\u001b[0;32m    649\u001b[0m \u001b[39mif\u001b[39;00m \u001b[39misinstance\u001b[39m(subarr, np\u001b[39m.\u001b[39mndarray):\n\u001b[0;32m    650\u001b[0m     \u001b[39m# at this point we should have dtype be None or subarr.dtype == dtype\u001b[39;00m\n",
      "File \u001b[1;32mc:\\Users\\ivanm\\AppData\\Local\\Programs\\Python\\Python310\\lib\\site-packages\\pandas\\core\\construction.py:698\u001b[0m, in \u001b[0;36m_sanitize_ndim\u001b[1;34m(result, data, dtype, index, allow_2d)\u001b[0m\n\u001b[0;32m    697\u001b[0m         \u001b[39mreturn\u001b[39;00m result\n\u001b[1;32m--> 698\u001b[0m     \u001b[39mraise\u001b[39;00m \u001b[39mValueError\u001b[39;00m(\u001b[39m\"\u001b[39m\u001b[39mData must be 1-dimensional\u001b[39m\u001b[39m\"\u001b[39m)\n\u001b[0;32m    699\u001b[0m \u001b[39mif\u001b[39;00m is_object_dtype(dtype) \u001b[39mand\u001b[39;00m \u001b[39misinstance\u001b[39m(dtype, ExtensionDtype):\n\u001b[0;32m    700\u001b[0m     \u001b[39m# i.e. PandasDtype(\"O\")\u001b[39;00m\n",
      "\u001b[1;31mValueError\u001b[0m: Data must be 1-dimensional",
      "\nThe above exception was the direct cause of the following exception:\n",
      "\u001b[1;31mValueError\u001b[0m                                Traceback (most recent call last)",
      "Cell \u001b[1;32mIn[24], line 1\u001b[0m\n\u001b[1;32m----> 1\u001b[0m data_smooth \u001b[39m=\u001b[39m height_correction(data_clustered,\u001b[39m5\u001b[39;49m,\u001b[39m10\u001b[39;49m)\n\u001b[0;32m      2\u001b[0m data_clustered2 \u001b[39m=\u001b[39m tol_adjust(data_smooth, \u001b[39m1.6\u001b[39m)\n\u001b[0;32m      3\u001b[0m sns\u001b[39m.\u001b[39mlmplot(x\u001b[39m=\u001b[39m\u001b[39m'\u001b[39m\u001b[39msum_distance\u001b[39m\u001b[39m'\u001b[39m, y\u001b[39m=\u001b[39m\u001b[39m'\u001b[39m\u001b[39mheight\u001b[39m\u001b[39m'\u001b[39m, data\u001b[39m=\u001b[39mdata_clustered2, hue\u001b[39m=\u001b[39m\u001b[39m'\u001b[39m\u001b[39mcluster\u001b[39m\u001b[39m'\u001b[39m, fit_reg\u001b[39m=\u001b[39m\u001b[39mFalse\u001b[39;00m)\n",
      "Cell \u001b[1;32mIn[23], line 30\u001b[0m, in \u001b[0;36mheight_correction\u001b[1;34m(data_clustered, max_points, replace_points)\u001b[0m\n\u001b[0;32m     28\u001b[0m h_smooth \u001b[39m=\u001b[39m modelo_z\u001b[39m.\u001b[39mpredict(gap_points[[\u001b[39m'\u001b[39m\u001b[39msum_distance\u001b[39m\u001b[39m'\u001b[39m]])\n\u001b[0;32m     29\u001b[0m \u001b[39mprint\u001b[39m(h_smooth)\n\u001b[1;32m---> 30\u001b[0m data_predicted\u001b[39m.\u001b[39;49minsert(\u001b[39m0\u001b[39;49m,\u001b[39m\"\u001b[39;49m\u001b[39mheight\u001b[39;49m\u001b[39m\"\u001b[39;49m, h_smooth)\n\u001b[0;32m     31\u001b[0m x_smooth \u001b[39m=\u001b[39m modelo_x\u001b[39m.\u001b[39mpredict(gap_points[[\u001b[39m'\u001b[39m\u001b[39msum_distance\u001b[39m\u001b[39m'\u001b[39m]])\n\u001b[0;32m     32\u001b[0m data_predicted\u001b[39m.\u001b[39minsert(\u001b[39m0\u001b[39m,\u001b[39m\"\u001b[39m\u001b[39mutm_x\u001b[39m\u001b[39m\"\u001b[39m, x_smooth)\n",
      "File \u001b[1;32mc:\\Users\\ivanm\\AppData\\Local\\Programs\\Python\\Python310\\lib\\site-packages\\pandas\\core\\frame.py:4818\u001b[0m, in \u001b[0;36mDataFrame.insert\u001b[1;34m(self, loc, column, value, allow_duplicates)\u001b[0m\n\u001b[0;32m   4815\u001b[0m \u001b[39mif\u001b[39;00m \u001b[39mnot\u001b[39;00m \u001b[39misinstance\u001b[39m(loc, \u001b[39mint\u001b[39m):\n\u001b[0;32m   4816\u001b[0m     \u001b[39mraise\u001b[39;00m \u001b[39mTypeError\u001b[39;00m(\u001b[39m\"\u001b[39m\u001b[39mloc must be int\u001b[39m\u001b[39m\"\u001b[39m)\n\u001b[1;32m-> 4818\u001b[0m value \u001b[39m=\u001b[39m \u001b[39mself\u001b[39;49m\u001b[39m.\u001b[39;49m_sanitize_column(value)\n\u001b[0;32m   4819\u001b[0m \u001b[39mself\u001b[39m\u001b[39m.\u001b[39m_mgr\u001b[39m.\u001b[39minsert(loc, column, value)\n",
      "File \u001b[1;32mc:\\Users\\ivanm\\AppData\\Local\\Programs\\Python\\Python310\\lib\\site-packages\\pandas\\core\\frame.py:4902\u001b[0m, in \u001b[0;36mDataFrame._sanitize_column\u001b[1;34m(self, value)\u001b[0m\n\u001b[0;32m   4889\u001b[0m \u001b[39mdef\u001b[39;00m \u001b[39m_sanitize_column\u001b[39m(\u001b[39mself\u001b[39m, value) \u001b[39m-\u001b[39m\u001b[39m>\u001b[39m ArrayLike:\n\u001b[0;32m   4890\u001b[0m \u001b[39m    \u001b[39m\u001b[39m\"\"\"\u001b[39;00m\n\u001b[0;32m   4891\u001b[0m \u001b[39m    Ensures new columns (which go into the BlockManager as new blocks) are\u001b[39;00m\n\u001b[0;32m   4892\u001b[0m \u001b[39m    always copied and converted into an array.\u001b[39;00m\n\u001b[1;32m   (...)\u001b[0m\n\u001b[0;32m   4900\u001b[0m \u001b[39m    numpy.ndarray or ExtensionArray\u001b[39;00m\n\u001b[0;32m   4901\u001b[0m \u001b[39m    \"\"\"\u001b[39;00m\n\u001b[1;32m-> 4902\u001b[0m     \u001b[39mself\u001b[39;49m\u001b[39m.\u001b[39;49m_ensure_valid_index(value)\n\u001b[0;32m   4904\u001b[0m     \u001b[39m# We can get there through isetitem with a DataFrame\u001b[39;00m\n\u001b[0;32m   4905\u001b[0m     \u001b[39m# or through loc single_block_path\u001b[39;00m\n\u001b[0;32m   4906\u001b[0m     \u001b[39mif\u001b[39;00m \u001b[39misinstance\u001b[39m(value, DataFrame):\n",
      "File \u001b[1;32mc:\\Users\\ivanm\\AppData\\Local\\Programs\\Python\\Python310\\lib\\site-packages\\pandas\\core\\frame.py:4242\u001b[0m, in \u001b[0;36mDataFrame._ensure_valid_index\u001b[1;34m(self, value)\u001b[0m\n\u001b[0;32m   4240\u001b[0m         value \u001b[39m=\u001b[39m Series(value)\n\u001b[0;32m   4241\u001b[0m     \u001b[39mexcept\u001b[39;00m (\u001b[39mValueError\u001b[39;00m, \u001b[39mNotImplementedError\u001b[39;00m, \u001b[39mTypeError\u001b[39;00m) \u001b[39mas\u001b[39;00m err:\n\u001b[1;32m-> 4242\u001b[0m         \u001b[39mraise\u001b[39;00m \u001b[39mValueError\u001b[39;00m(\n\u001b[0;32m   4243\u001b[0m             \u001b[39m\"\u001b[39m\u001b[39mCannot set a frame with no defined index \u001b[39m\u001b[39m\"\u001b[39m\n\u001b[0;32m   4244\u001b[0m             \u001b[39m\"\u001b[39m\u001b[39mand a value that cannot be converted to a Series\u001b[39m\u001b[39m\"\u001b[39m\n\u001b[0;32m   4245\u001b[0m         ) \u001b[39mfrom\u001b[39;00m \u001b[39merr\u001b[39;00m\n\u001b[0;32m   4247\u001b[0m \u001b[39m# GH31368 preserve name of index\u001b[39;00m\n\u001b[0;32m   4248\u001b[0m index_copy \u001b[39m=\u001b[39m value\u001b[39m.\u001b[39mindex\u001b[39m.\u001b[39mcopy()\n",
      "\u001b[1;31mValueError\u001b[0m: Cannot set a frame with no defined index and a value that cannot be converted to a Series"
     ]
    }
   ],
   "source": [
    "data_smooth = height_correction(data_clustered,5,10)\n",
    "data_clustered2 = tol_adjust(data_smooth, 1.6)\n",
    "sns.lmplot(x='sum_distance', y='height', data=data_clustered2, hue='cluster', fit_reg=False)\n",
    "data_clustered2.reset_index()\n",
    "data_clustered2.head(5)"
   ]
  },
  {
   "cell_type": "code",
   "execution_count": 23,
   "metadata": {},
   "outputs": [],
   "source": [
    "from sklearn.linear_model import LinearRegression\n",
    "\n",
    "def height_correction(data_clustered, max_points=5,replace_points=10):\n",
    "    clusters = data_clustered.cluster.unique()\n",
    "    if(len(clusters)>1):\n",
    "        gps_smooth = pd.DataFrame()\n",
    "        for i in range(1,len(clusters)):\n",
    "            data_predicted = pd.DataFrame()\n",
    "            grupo1 = data_clustered[data_clustered['cluster']==i]\n",
    "            grupo2 = data_clustered[data_clustered['cluster']==(i+1)]\n",
    "            grupo1.insert(5,\"grupo\",np.ones(grupo1.shape[0])); \n",
    "            grupo2.insert(5,\"grupo\",np.ones(grupo2.shape[0])); \n",
    "            m = np.min([grupo1.shape[0],grupo2.shape[0],max_points])\n",
    "            subgrupo1 = grupo1.tail(m)\n",
    "            subgrupo2 = grupo2.head(m)\n",
    "\n",
    "            r = pd.concat([subgrupo1,subgrupo2]).reset_index(drop=True)\n",
    "            modelo_z = LinearRegression().fit(r[['sum_distance']],r[['height']])\n",
    "            modelo_x = LinearRegression().fit(r[['sum_distance']],r[['utm_x']])\n",
    "            modelo_y = LinearRegression().fit(r[['sum_distance']],r[['utm_y']])\n",
    "            \n",
    "            #200 -100 /5\n",
    "            #100 200:  100 120 140 160 180 200\n",
    "            #reemplazar con suavizado\n",
    "            x_min = r.sum_distance.min()\n",
    "            x_max = r.sum_distance.max()\n",
    "            gap_points = pd.DataFrame({'sum_distance':np.linspace(r.sum_distance.min(),r.sum_distance.max(),replace_points)})\n",
    "            h_smooth = modelo_z.predict(gap_points[['sum_distance']])\n",
    "            \n",
    "            data_predicted.insert(0,\"height\", h_smooth)\n",
    "            x_smooth = modelo_x.predict(gap_points[['sum_distance']])\n",
    "            data_predicted.insert(0,\"utm_x\", x_smooth)\n",
    "            y_smooth = modelo_y.predict(gap_points[['sum_distance']])\n",
    "            data_predicted.insert(0,\"utm_y\", y_smooth)\n",
    "            data_predicted.insert(0,\"secuencia\", np.zeros(data_predicted.shape[0]))\n",
    "            data_predicted.insert(0,\"distance\", np.zeros(data_predicted.shape[0]))\n",
    "            data_predicted.insert(0,\"slope\", np.zeros(data_predicted.shape[0]))\n",
    "            data_predicted.insert(0,\"sum_distance\", np.zeros(data_predicted.shape[0]))\n",
    "            data_predicted.insert(0,\"cluster\", np.zeros(data_predicted.shape[0]))\n",
    "            \n",
    "            if i==1:\n",
    "                start = 0\n",
    "            else:\n",
    "                start = m + 1\n",
    "         \n",
    "            if i>1:\n",
    "                gps_smooth = gps_smooth[gps_smooth['cluster']!=i]\n",
    "            \n",
    "            if grupo2.shape[0]>m:\n",
    "                gps_smooth = pd.concat([gps_smooth,grupo1.head(grupo1.shape[0]-m),data_predicted,grupo2.tail(grupo2.shape[0]-m)]).reset_index(drop=True)    \n",
    "            else:\n",
    "                gps_smooth <- pd.concat([gps_smooth,grupo1.head(grupo1.shape[0]-m),data_predicted])       \n",
    "        # gps_smooth <- get_distances(gps_smooth)\n",
    "        # gps_smooth.grupo <- NULL\n",
    "        # gps_smooth.secuencia <- NULL\n",
    "        # gps5 <- sddclust(gps_smooth,tolerance=tol)        \n",
    "    else:\n",
    "        print(\"ERROR: No gaps found (clusters number must be longer than 1\")\n",
    "    datos_l = gps_smooth.copy()\n",
    "    datos_l[\"next_utm_x\"] = datos_f[\"utm_x\"].shift(-1)\n",
    "    datos_l[\"next_utm_y\"] = datos_f[\"utm_y\"].shift(-1)\n",
    "    datos_l[\"next_height\"] = datos_f[\"height\"].shift(-1)\n",
    "    #calculate distances and slopes\n",
    "    datos_l[\"distance\"] = np.sqrt((datos_l[\"utm_x\"]-datos_l[\"next_utm_x\"])**2 + (datos_l[\"utm_y\"]-datos_l[\"next_utm_y\"])**2)\n",
    "    datos_l[\"slope\"] = (datos_l[\"next_height\"]-datos_l[\"height\"])/datos_l[\"distance\"] \n",
    "    datos_l[\"sum_distance\"] = np.cumsum(datos_l[\"distance\"])\n",
    "    return(datos_l)"
   ]
  },
  {
   "cell_type": "code",
   "execution_count": 22,
   "metadata": {},
   "outputs": [
    {
     "ename": "NameError",
     "evalue": "name 'modelo_z' is not defined",
     "output_type": "error",
     "traceback": [
      "\u001b[1;31m---------------------------------------------------------------------------\u001b[0m",
      "\u001b[1;31mNameError\u001b[0m                                 Traceback (most recent call last)",
      "Cell \u001b[1;32mIn[22], line 1\u001b[0m\n\u001b[1;32m----> 1\u001b[0m h_smooth \u001b[39m=\u001b[39m modelo_z\u001b[39m.\u001b[39mpredict(gap_points[[\u001b[39m'\u001b[39m\u001b[39msum_distance\u001b[39m\u001b[39m'\u001b[39m]])\n",
      "\u001b[1;31mNameError\u001b[0m: name 'modelo_z' is not defined"
     ]
    }
   ],
   "source": []
  },
  {
   "cell_type": "code",
   "execution_count": null,
   "metadata": {},
   "outputs": [],
   "source": []
  }
 ],
 "metadata": {
  "kernelspec": {
   "display_name": "Python 3",
   "language": "python",
   "name": "python3"
  },
  "language_info": {
   "codemirror_mode": {
    "name": "ipython",
    "version": 3
   },
   "file_extension": ".py",
   "mimetype": "text/x-python",
   "name": "python",
   "nbconvert_exporter": "python",
   "pygments_lexer": "ipython3",
   "version": "3.10.2"
  },
  "orig_nbformat": 4,
  "vscode": {
   "interpreter": {
    "hash": "b2e61ec0b8ab12059dc62f2dc503d7d0a96aefdac65f4c666c57771d40cb3777"
   }
  }
 },
 "nbformat": 4,
 "nbformat_minor": 2
}
